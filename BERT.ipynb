{
  "cells": [
    {
      "cell_type": "markdown",
      "metadata": {
        "id": "JZFoTZ9Rd4bP"
      },
      "source": [
        "<a href=\"https://colab.research.google.com/github/dbamman/nlp22/blob/master/AP/BERT.ipynb\" target=\"_parent\"><img src=\"https://colab.research.google.com/assets/colab-badge.svg\" alt=\"Open In Colab\"/></a>"
      ]
    },
    {
      "cell_type": "markdown",
      "metadata": {
        "id": "2AYm2QjD4WPA"
      },
      "source": [
        "BERT for binary or multiclass document classification using the [CLS] token as the document representation; trains a model (on `train.txt`), uses `dev.txt` for early stopping, and evaluates performance on `test.txt`.  Reports test accuracy with 95% confidence intervals.\n",
        "\n",
        "Before executing this notebook on Colab, make sure you're running on cuda (`Runtime > Change runtime type > GPU`) to make use of GPU speedups."
      ]
    },
    {
      "cell_type": "code",
      "execution_count": null,
      "metadata": {
        "id": "RXwcKMY44a04",
        "colab": {
          "base_uri": "https://localhost:8080/"
        },
        "outputId": "4a9c790a-5f52-4486-b2ef-df940e17c5bd"
      },
      "outputs": [
        {
          "output_type": "stream",
          "name": "stdout",
          "text": [
            "Collecting transformers\n",
            "  Downloading transformers-4.18.0-py3-none-any.whl (4.0 MB)\n",
            "\u001b[K     |████████████████████████████████| 4.0 MB 34.4 MB/s \n",
            "\u001b[?25hRequirement already satisfied: regex!=2019.12.17 in /usr/local/lib/python3.7/dist-packages (from transformers) (2019.12.20)\n",
            "Requirement already satisfied: numpy>=1.17 in /usr/local/lib/python3.7/dist-packages (from transformers) (1.21.6)\n",
            "Requirement already satisfied: requests in /usr/local/lib/python3.7/dist-packages (from transformers) (2.23.0)\n",
            "Collecting sacremoses\n",
            "  Downloading sacremoses-0.0.49-py3-none-any.whl (895 kB)\n",
            "\u001b[K     |████████████████████████████████| 895 kB 54.4 MB/s \n",
            "\u001b[?25hCollecting tokenizers!=0.11.3,<0.13,>=0.11.1\n",
            "  Downloading tokenizers-0.12.1-cp37-cp37m-manylinux_2_12_x86_64.manylinux2010_x86_64.whl (6.6 MB)\n",
            "\u001b[K     |████████████████████████████████| 6.6 MB 57.8 MB/s \n",
            "\u001b[?25hRequirement already satisfied: packaging>=20.0 in /usr/local/lib/python3.7/dist-packages (from transformers) (21.3)\n",
            "Collecting huggingface-hub<1.0,>=0.1.0\n",
            "  Downloading huggingface_hub-0.5.1-py3-none-any.whl (77 kB)\n",
            "\u001b[K     |████████████████████████████████| 77 kB 9.6 MB/s \n",
            "\u001b[?25hRequirement already satisfied: filelock in /usr/local/lib/python3.7/dist-packages (from transformers) (3.6.0)\n",
            "Requirement already satisfied: importlib-metadata in /usr/local/lib/python3.7/dist-packages (from transformers) (4.11.3)\n",
            "Requirement already satisfied: tqdm>=4.27 in /usr/local/lib/python3.7/dist-packages (from transformers) (4.64.0)\n",
            "Collecting pyyaml>=5.1\n",
            "  Downloading PyYAML-6.0-cp37-cp37m-manylinux_2_5_x86_64.manylinux1_x86_64.manylinux_2_12_x86_64.manylinux2010_x86_64.whl (596 kB)\n",
            "\u001b[K     |████████████████████████████████| 596 kB 61.3 MB/s \n",
            "\u001b[?25hRequirement already satisfied: typing-extensions>=3.7.4.3 in /usr/local/lib/python3.7/dist-packages (from huggingface-hub<1.0,>=0.1.0->transformers) (4.1.1)\n",
            "Requirement already satisfied: pyparsing!=3.0.5,>=2.0.2 in /usr/local/lib/python3.7/dist-packages (from packaging>=20.0->transformers) (3.0.8)\n",
            "Requirement already satisfied: zipp>=0.5 in /usr/local/lib/python3.7/dist-packages (from importlib-metadata->transformers) (3.8.0)\n",
            "Requirement already satisfied: chardet<4,>=3.0.2 in /usr/local/lib/python3.7/dist-packages (from requests->transformers) (3.0.4)\n",
            "Requirement already satisfied: urllib3!=1.25.0,!=1.25.1,<1.26,>=1.21.1 in /usr/local/lib/python3.7/dist-packages (from requests->transformers) (1.24.3)\n",
            "Requirement already satisfied: idna<3,>=2.5 in /usr/local/lib/python3.7/dist-packages (from requests->transformers) (2.10)\n",
            "Requirement already satisfied: certifi>=2017.4.17 in /usr/local/lib/python3.7/dist-packages (from requests->transformers) (2021.10.8)\n",
            "Requirement already satisfied: six in /usr/local/lib/python3.7/dist-packages (from sacremoses->transformers) (1.15.0)\n",
            "Requirement already satisfied: click in /usr/local/lib/python3.7/dist-packages (from sacremoses->transformers) (7.1.2)\n",
            "Requirement already satisfied: joblib in /usr/local/lib/python3.7/dist-packages (from sacremoses->transformers) (1.1.0)\n",
            "Installing collected packages: pyyaml, tokenizers, sacremoses, huggingface-hub, transformers\n",
            "  Attempting uninstall: pyyaml\n",
            "    Found existing installation: PyYAML 3.13\n",
            "    Uninstalling PyYAML-3.13:\n",
            "      Successfully uninstalled PyYAML-3.13\n",
            "Successfully installed huggingface-hub-0.5.1 pyyaml-6.0 sacremoses-0.0.49 tokenizers-0.12.1 transformers-4.18.0\n"
          ]
        }
      ],
      "source": [
        "!pip install transformers"
      ]
    },
    {
      "cell_type": "code",
      "execution_count": null,
      "metadata": {
        "id": "oeSgrDjF4WPC"
      },
      "outputs": [],
      "source": [
        "from transformers import BertModel, BertTokenizer\n",
        "import nltk\n",
        "import torch\n",
        "import torch.nn as nn\n",
        "import numpy as np\n",
        "import random\n",
        "from scipy.stats import norm\n",
        "import math\n",
        "import matplotlib.pyplot as plt\n",
        "from sklearn.metrics import plot_confusion_matrix\n",
        "from sklearn.metrics import confusion_matrix, ConfusionMatrixDisplay"
      ]
    },
    {
      "cell_type": "code",
      "execution_count": null,
      "metadata": {
        "id": "F9qWkf0z4WPE",
        "colab": {
          "base_uri": "https://localhost:8080/"
        },
        "outputId": "22dd6ec6-f9ec-4246-c595-ad8a36486b9b"
      },
      "outputs": [
        {
          "output_type": "stream",
          "name": "stdout",
          "text": [
            "Mounted at /content/drive\n"
          ]
        }
      ],
      "source": [
        "# If you have your folder of data on your Google drive account, you can connect that here\n",
        "from google.colab import drive\n",
        "drive.mount('/content/drive')"
      ]
    },
    {
      "cell_type": "code",
      "execution_count": null,
      "metadata": {
        "id": "OcoE7WJQ6XRp"
      },
      "outputs": [],
      "source": [
        "# Change this to the directory with your data\n",
        "directory=\"/content/drive/MyDrive/ap_data\""
      ]
    },
    {
      "cell_type": "code",
      "execution_count": null,
      "metadata": {
        "id": "-ycKOkx34WPE",
        "colab": {
          "base_uri": "https://localhost:8080/"
        },
        "outputId": "aec0f6a2-c182-47c7-f864-e3b87d1ece3f"
      },
      "outputs": [
        {
          "output_type": "stream",
          "name": "stdout",
          "text": [
            "Running on cuda\n"
          ]
        }
      ],
      "source": [
        "device = torch.device(\"cuda\" if torch.cuda.is_available() else \"cpu\")\n",
        "print(\"Running on {}\".format(device))"
      ]
    },
    {
      "cell_type": "code",
      "execution_count": null,
      "metadata": {
        "id": "BuzjCRrG4WPF"
      },
      "outputs": [],
      "source": [
        "def read_labels(filename):\n",
        "    labels={}\n",
        "    with open(filename) as file:\n",
        "        for line in file:\n",
        "            cols = line.split(\"\\t\")\n",
        "            label = cols[1]\n",
        "            if label not in labels:\n",
        "                labels[label]=len(labels)\n",
        "    return labels"
      ]
    },
    {
      "cell_type": "code",
      "execution_count": null,
      "metadata": {
        "id": "8XetKMAw4WPF"
      },
      "outputs": [],
      "source": [
        "def read_data(filename, labels, max_data_points=1000):\n",
        "  \n",
        "    data = []\n",
        "    data_labels = []\n",
        "    with open(filename) as file:\n",
        "        for line in file:\n",
        "            cols = line.split(\"\\t\")\n",
        "            label = cols[1]\n",
        "            text = cols[2]\n",
        "            \n",
        "            data.append(text)\n",
        "            data_labels.append(labels[label])\n",
        "            \n",
        "\n",
        "    # shuffle the data\n",
        "    tmp = list(zip(data, data_labels))\n",
        "    random.shuffle(tmp)\n",
        "    data, data_labels = zip(*tmp)\n",
        "    \n",
        "    if max_data_points is None:\n",
        "        return data, data_labels\n",
        "    \n",
        "    return data[:max_data_points], data_labels[:max_data_points]"
      ]
    },
    {
      "cell_type": "code",
      "execution_count": null,
      "metadata": {
        "id": "ZPfJqVmb4WPH"
      },
      "outputs": [],
      "source": [
        "labels=read_labels(\"%s/train.txt\" % directory)"
      ]
    },
    {
      "cell_type": "code",
      "source": [
        "labels"
      ],
      "metadata": {
        "colab": {
          "base_uri": "https://localhost:8080/"
        },
        "id": "g1wLNRbBJuFp",
        "outputId": "636e3f19-c4be-41ee-c581-43ff3ddac367"
      },
      "execution_count": null,
      "outputs": [
        {
          "output_type": "execute_result",
          "data": {
            "text/plain": [
              "{'1': 1, '2': 2, '3': 0, '4': 3}"
            ]
          },
          "metadata": {},
          "execution_count": 9
        }
      ]
    },
    {
      "cell_type": "code",
      "execution_count": null,
      "metadata": {
        "id": "O-728X0b4WPI"
      },
      "outputs": [],
      "source": [
        "train_x, train_y=read_data(\"%s/train.txt\" % directory, labels, max_data_points=None)"
      ]
    },
    {
      "cell_type": "code",
      "execution_count": null,
      "metadata": {
        "id": "zQOE469I4WPI"
      },
      "outputs": [],
      "source": [
        "dev_x, dev_y=read_data(\"%s/dev.txt\" % directory, labels, max_data_points=None)"
      ]
    },
    {
      "cell_type": "code",
      "execution_count": null,
      "metadata": {
        "id": "vMpv6ZV54WPI"
      },
      "outputs": [],
      "source": [
        "test_x, test_y=read_data(\"%s/test.txt\" % directory, labels, max_data_points=None)"
      ]
    },
    {
      "cell_type": "code",
      "execution_count": null,
      "metadata": {
        "id": "gUKRjWsf4WPJ"
      },
      "outputs": [],
      "source": [
        "def evaluate(model, x, y):\n",
        "    model.eval()\n",
        "    corr = 0.\n",
        "    total = 0.\n",
        "    with torch.no_grad():\n",
        "        for x, y in zip(x, y):\n",
        "            y_preds=model.forward(x)\n",
        "            for idx, y_pred in enumerate(y_preds):\n",
        "                prediction=torch.argmax(y_pred)\n",
        "                if prediction == y[idx]:\n",
        "                    corr += 1.\n",
        "                total+=1                          \n",
        "    return corr/total, total"
      ]
    },
    {
      "cell_type": "code",
      "execution_count": null,
      "metadata": {
        "id": "xkUSuG794WPK"
      },
      "outputs": [],
      "source": [
        "class BERTClassifier(nn.Module):\n",
        "\n",
        "    def __init__(self, bert_model_name, params):\n",
        "        super().__init__()\n",
        "    \n",
        "        self.model_name=bert_model_name\n",
        "        self.tokenizer = BertTokenizer.from_pretrained(self.model_name, do_lower_case=params[\"doLowerCase\"], do_basic_tokenize=False)\n",
        "        self.bert = BertModel.from_pretrained(self.model_name)\n",
        "        \n",
        "        self.num_labels = params[\"label_length\"]\n",
        "\n",
        "        self.fc = nn.Linear(params[\"embedding_size\"], self.num_labels)\n",
        "\n",
        "    def get_batches(self, all_x, all_y, batch_size=32, max_toks=510):\n",
        "            \n",
        "        \"\"\" Get batches for input x, y data, with data tokenized according to the BERT tokenizer \n",
        "      (and limited to a maximum number of WordPiece tokens \"\"\"\n",
        "\n",
        "        batches_x=[]\n",
        "        batches_y=[]\n",
        "        \n",
        "        for i in range(0, len(all_x), batch_size):\n",
        "\n",
        "            current_batch=[]\n",
        "\n",
        "            x=all_x[i:i+batch_size]\n",
        "\n",
        "            batch_x = self.tokenizer(x, padding=True, truncation=True, return_tensors=\"pt\", max_length=max_toks)\n",
        "            batch_y=all_y[i:i+batch_size]\n",
        "\n",
        "            batches_x.append(batch_x.to(device))\n",
        "            batches_y.append(torch.LongTensor(batch_y).to(device))\n",
        "            \n",
        "        return batches_x, batches_y\n",
        "  \n",
        "\n",
        "    def forward(self, batch_x): \n",
        "    \n",
        "        bert_output = self.bert(input_ids=batch_x[\"input_ids\"],\n",
        "                         attention_mask=batch_x[\"attention_mask\"],\n",
        "                         token_type_ids=batch_x[\"token_type_ids\"],\n",
        "                         output_hidden_states=True)\n",
        "\n",
        "      # We're going to represent an entire document just by its [CLS] embedding (at position 0)\n",
        "      # And use the *last* layer output (layer -1)\n",
        "      # as a result of this choice, this embedding will be optimized for this purpose during the training process.\n",
        "      \n",
        "        bert_hidden_states = bert_output['hidden_states']\n",
        "\n",
        "        out = bert_hidden_states[-1][:,0,:]\n",
        "\n",
        "        out = self.fc(out)\n",
        "\n",
        "        return out.squeeze()"
      ]
    },
    {
      "cell_type": "code",
      "execution_count": null,
      "metadata": {
        "id": "9mVrY9yv4WPL"
      },
      "outputs": [],
      "source": [
        "def confidence_intervals(accuracy, n, significance_level):\n",
        "    critical_value=(1-significance_level)/2\n",
        "    z_alpha=-1*norm.ppf(critical_value)\n",
        "    se=math.sqrt((accuracy*(1-accuracy))/n)\n",
        "    return accuracy-(se*z_alpha), accuracy+(se*z_alpha)"
      ]
    },
    {
      "cell_type": "code",
      "execution_count": null,
      "metadata": {
        "id": "GiiXWwz94WPL"
      },
      "outputs": [],
      "source": [
        "def train(bert_model_name, model_filename, train_x, train_y, dev_x, dev_y, labels, embedding_size=768, doLowerCase=None):\n",
        "\n",
        "    bert_model = BERTClassifier(bert_model_name, params={\"label_length\": len(labels), \"doLowerCase\":doLowerCase, \"embedding_size\":embedding_size})\n",
        "    bert_model.to(device)\n",
        "\n",
        "    batch_x, batch_y = bert_model.get_batches(train_x, train_y)\n",
        "    dev_batch_x, dev_batch_y = bert_model.get_batches(dev_x, dev_y)\n",
        "\n",
        "    optimizer = torch.optim.Adam(bert_model.parameters(), lr=1e-5)\n",
        "    cross_entropy=nn.CrossEntropyLoss()\n",
        "\n",
        "    num_epochs=30\n",
        "    best_dev_acc = 0.\n",
        "    patience=5\n",
        "\n",
        "    best_epoch=0\n",
        "\n",
        "    for epoch in range(num_epochs):\n",
        "        bert_model.train()\n",
        "\n",
        "        # Train\n",
        "        for x, y in zip(batch_x, batch_y):\n",
        "            y_pred = bert_model.forward(x)\n",
        "            loss = cross_entropy(y_pred.view(-1, bert_model.num_labels), y.view(-1))\n",
        "            optimizer.zero_grad()\n",
        "            loss.backward()\n",
        "            optimizer.step()\n",
        "\n",
        "        # Evaluate\n",
        "        dev_accuracy, _=evaluate(bert_model, dev_batch_x, dev_batch_y)\n",
        "        if epoch % 1 == 0:\n",
        "            print(\"Epoch %s, dev accuracy: %.3f\" % (epoch, dev_accuracy))\n",
        "            if dev_accuracy > best_dev_acc:\n",
        "                torch.save(bert_model.state_dict(), model_filename)\n",
        "                best_dev_acc = dev_accuracy\n",
        "                best_epoch=epoch\n",
        "        if epoch - best_epoch > patience:\n",
        "            print(\"No improvement in dev accuracy over %s epochs; stopping training\" % patience)\n",
        "            break\n",
        "\n",
        "    bert_model.load_state_dict(torch.load(model_filename))\n",
        "    print(\"\\nBest Performing Model achieves dev accuracy of : %.3f\" % (best_dev_acc))\n",
        "    return bert_model\n"
      ]
    },
    {
      "cell_type": "code",
      "execution_count": null,
      "metadata": {
        "id": "Twbsysmd4WPM",
        "colab": {
          "base_uri": "https://localhost:8080/",
          "height": 703,
          "referenced_widgets": [
            "48c417bfa8844a088e2c9b827f37d9ed",
            "da1860a2ba2449a4ab3a877194d45c17",
            "7937d54f77c84cd78d2a2c0b8e386fcb",
            "1dd6c95b0feb4b33b9eeff0fb7493c17",
            "fd85a26bf0bb4179a188158113f17bf0",
            "91b94ff4a9c44dec92d6f98870d297e5",
            "dcc64ec4789c482aaca0aa1816679c4f",
            "8816751628864ef8b8ab06d8a6ca3301",
            "7ab7fba222164dc59aa04f6eae38b18e",
            "075c20cbe81348529684bd8d8024bd8f",
            "0e14f2fd11ea4260bb23e54bd8e2cf2a",
            "27e4eff78b814565bb2db3f7f49c6cc2",
            "de05f60a841e4e4caa55c2966a41fd47",
            "a4d413b688c64bdb88c1ced9dcba1b10",
            "8a66ddb694c54803b746e6f28a5d3290",
            "747a615cbaa64ba8a8eca64cd880f03a",
            "6de40920d0494a91b52d899e52204be8",
            "26c3d3e1e0984c68995eda3fabd0c7f1",
            "3565cfe6126648febe76ace2c060cdf5",
            "87131816c7304a06b4b614b0a7f2b1a4",
            "eb979d0411c54d0da0a55692abbff933",
            "a4e38b2a3a214625a218a35a74c61a2b",
            "7b31f035c07b43aa80a953dd06162d3c",
            "c791eed7a71d4ed1baa25f2fdded8464",
            "d4882a7e7e9e4d22a3ca637b6c134e09",
            "564a3e5882a941768991695ec8e97bd6",
            "5efaaeb83d454bb1af7066f7fbda4129",
            "6a2477c65be046e7bda44f52db30df20",
            "8549e249e6014570a40820046cc21815",
            "8fd1300c8e7c427fa6c49365b5772354",
            "f8e88e7f6b674972994194b7a57edea0",
            "e3dee66680d847d3816b828ac4a04076",
            "de505b180d07422f82437cce60cfc09a"
          ]
        },
        "outputId": "28a39b8f-41d5-4945-f269-3cedec5d95e8"
      },
      "outputs": [
        {
          "output_type": "display_data",
          "data": {
            "text/plain": [
              "Downloading:   0%|          | 0.00/226k [00:00<?, ?B/s]"
            ],
            "application/vnd.jupyter.widget-view+json": {
              "version_major": 2,
              "version_minor": 0,
              "model_id": "48c417bfa8844a088e2c9b827f37d9ed"
            }
          },
          "metadata": {}
        },
        {
          "output_type": "display_data",
          "data": {
            "text/plain": [
              "Downloading:   0%|          | 0.00/382 [00:00<?, ?B/s]"
            ],
            "application/vnd.jupyter.widget-view+json": {
              "version_major": 2,
              "version_minor": 0,
              "model_id": "27e4eff78b814565bb2db3f7f49c6cc2"
            }
          },
          "metadata": {}
        },
        {
          "output_type": "display_data",
          "data": {
            "text/plain": [
              "Downloading:   0%|          | 0.00/16.9M [00:00<?, ?B/s]"
            ],
            "application/vnd.jupyter.widget-view+json": {
              "version_major": 2,
              "version_minor": 0,
              "model_id": "7b31f035c07b43aa80a953dd06162d3c"
            }
          },
          "metadata": {}
        },
        {
          "output_type": "stream",
          "name": "stderr",
          "text": [
            "Some weights of the model checkpoint at google/bert_uncased_L-2_H-128_A-2 were not used when initializing BertModel: ['cls.predictions.decoder.weight', 'cls.seq_relationship.bias', 'cls.predictions.decoder.bias', 'cls.seq_relationship.weight', 'cls.predictions.transform.LayerNorm.bias', 'cls.predictions.transform.LayerNorm.weight', 'cls.predictions.transform.dense.bias', 'cls.predictions.bias', 'cls.predictions.transform.dense.weight']\n",
            "- This IS expected if you are initializing BertModel from the checkpoint of a model trained on another task or with another architecture (e.g. initializing a BertForSequenceClassification model from a BertForPreTraining model).\n",
            "- This IS NOT expected if you are initializing BertModel from the checkpoint of a model that you expect to be exactly identical (initializing a BertForSequenceClassification model from a BertForSequenceClassification model).\n"
          ]
        },
        {
          "output_type": "stream",
          "name": "stdout",
          "text": [
            "Epoch 0, dev accuracy: 0.360\n",
            "Epoch 1, dev accuracy: 0.380\n",
            "Epoch 2, dev accuracy: 0.400\n",
            "Epoch 3, dev accuracy: 0.425\n",
            "Epoch 4, dev accuracy: 0.430\n",
            "Epoch 5, dev accuracy: 0.445\n",
            "Epoch 6, dev accuracy: 0.445\n",
            "Epoch 7, dev accuracy: 0.460\n",
            "Epoch 8, dev accuracy: 0.470\n",
            "Epoch 9, dev accuracy: 0.470\n",
            "Epoch 10, dev accuracy: 0.470\n",
            "Epoch 11, dev accuracy: 0.460\n",
            "Epoch 12, dev accuracy: 0.465\n",
            "Epoch 13, dev accuracy: 0.475\n",
            "Epoch 14, dev accuracy: 0.480\n",
            "Epoch 15, dev accuracy: 0.515\n",
            "Epoch 16, dev accuracy: 0.525\n",
            "Epoch 17, dev accuracy: 0.525\n",
            "Epoch 18, dev accuracy: 0.530\n",
            "Epoch 19, dev accuracy: 0.540\n",
            "Epoch 20, dev accuracy: 0.530\n",
            "Epoch 21, dev accuracy: 0.535\n",
            "Epoch 22, dev accuracy: 0.525\n",
            "Epoch 23, dev accuracy: 0.535\n",
            "Epoch 24, dev accuracy: 0.540\n",
            "Epoch 25, dev accuracy: 0.540\n",
            "No improvement in dev accuracy over 5 epochs; stopping training\n",
            "\n",
            "Best Performing Model achieves dev accuracy of : 0.540\n"
          ]
        }
      ],
      "source": [
        "#small BERT -- can run on laptop\n",
        "bert_model_name=\"google/bert_uncased_L-2_H-128_A-2\"\n",
        "model_filename=\"mybert.model\"\n",
        "embedding_size=128\n",
        "doLowerCase=True\n",
        "\n",
        "# bert-base -- slow on laptop; better on Colab\n",
        "# bert_model_name=\"bert-base-cased\"\n",
        "# model_filename=\"mybert.model\"\n",
        "# embedding_size=768\n",
        "# doLowerCase=False\n",
        "\n",
        "model=train(bert_model_name, model_filename, train_x, train_y, dev_x, dev_y, labels, embedding_size=embedding_size, doLowerCase=doLowerCase)"
      ]
    },
    {
      "cell_type": "code",
      "execution_count": null,
      "metadata": {
        "id": "UyImsx_C4WPN",
        "colab": {
          "base_uri": "https://localhost:8080/"
        },
        "outputId": "63d6ddea-2f2d-4e1e-bf54-9f39ebe627af"
      },
      "outputs": [
        {
          "output_type": "stream",
          "name": "stdout",
          "text": [
            "Test accuracy for best dev model: 0.610, 95% CIs: [0.542 0.678]\n",
            "\n"
          ]
        }
      ],
      "source": [
        "test_batch_x, test_batch_y = model.get_batches(test_x, test_y)\n",
        "accuracy, test_n=evaluate(model, test_batch_x, test_batch_y)\n",
        "\n",
        "lower, upper=confidence_intervals(accuracy, test_n, .95)\n",
        "print(\"Test accuracy for best dev model: %.3f, 95%% CIs: [%.3f %.3f]\\n\" % (accuracy, lower, upper))"
      ]
    },
    {
      "cell_type": "code",
      "source": [
        "def evaluate2(model, x, y):\n",
        "    model.eval()\n",
        "    corr = 0.\n",
        "    total = 0.\n",
        "    preds = []\n",
        "    with torch.no_grad():\n",
        "        for x, y in zip(x, y):\n",
        "            y_preds=model.forward(x)\n",
        "            for idx, y_pred in enumerate(y_preds):\n",
        "                prediction=torch.argmax(y_pred)\n",
        "                preds.append([prediction,y[idx]])\n",
        "                total+=1                          \n",
        "    return preds"
      ],
      "metadata": {
        "id": "3E2Z_YeGIvRM"
      },
      "execution_count": null,
      "outputs": []
    },
    {
      "cell_type": "code",
      "source": [
        "preds_tuple =evaluate2(model, test_batch_x, test_batch_y)\n",
        "preds_tuple = preds_tuple\n",
        "lst = []\n",
        "for i in preds_tuple:\n",
        "  i_0_0 = i[0].item()\n",
        "  i_1_0 = i[1].item()\n",
        "  tup = (i_0_0, i_1_0)\n",
        "  lst.append(tup)\n",
        "lst\n",
        "idx_lst = []\n",
        "for i in range(len(lst)):\n",
        "  if lst[i][0] != preds_tuple[i][1]:\n",
        "    idx_lst.append(i)\n",
        "\n",
        "idx_lst\n",
        "text_dict = {}\n",
        "for i in idx_lst:\n",
        "  text_dict[test_x[i]] = lst[i]\n",
        "text_dict"
      ],
      "metadata": {
        "colab": {
          "base_uri": "https://localhost:8080/"
        },
        "id": "B2W4o-8sH22C",
        "outputId": "39921754-2fc9-4182-ce92-fbf9b71cb330"
      },
      "execution_count": null,
      "outputs": [
        {
          "output_type": "execute_result",
          "data": {
            "text/plain": [
              "{' Maybe try r/52book? I use Goodreads to set my reading goal for the year and track everything. Other than that, I make time to read every day. Usually at night before bed and on lunch breaks. More on the weekends. I read 81 books this year. I was thinking of trying for 100 but that might be a big stretch and I’m afraid I’d try to read only short books, which would limit the books I want to read that are long. I think maybe having a goal based on number of pages read would be neat too. I read less pages in 2021 than I did in 2020, despite that I read two books more in 2021 than I did the previous year.\\n': (1,\n",
              "  2),\n",
              " 'As far as I know, recommendation requests should go [outside link].\\n': (1,\n",
              "  0),\n",
              " \"As for alternatives, I don't go here much because I find this sub grating (for reasons that have nothing to do with the moderation), and like, there are SO MANY alternatives out there already. There's /r/writers, /r/PubTips, r/publishing, /r/storyandstyle, /r/YAwriters, /r/fantasywriters, /r/FanFiction, and that's just the writing subs I can keep up with. /r/BetaReaders and /r/DestructiveReaders have occasional craft threads. Tons of reading-focused subs - /r/Fantasy, /r/literature, /r/TrueLit, /r/horrorlit - have a community of writers and regular writing discussion in weekly threads, regular threads, or even dedicated threads. There really isn't a dearth of writing content on this site. Really. I would say there's writing content for any level and any preference. I would frankly feel silly complaining.\\n\": (0,\n",
              "  1),\n",
              " \"Audra Simpson's *Mohawk Interruptus*You might also want to ask over at /r/AskLiteraryStudies too.\\n\": (1,\n",
              "  0),\n",
              " 'Charlotte Mason inspired curricula are classical; Ambleside Online is a completely free option with booklists and guides for a secular Charlotte Mason-style curriculum. It’s a lot of work on the parents’ end to gather all the books and set everything up, but it’s a great education model that encourages reading and critical thinking. It’s definitely not just a pile of workbooks to hand the kid to go through, but the prep is worth it. We love it.\\n': (0,\n",
              "  2),\n",
              " 'Definitely! Here’s my list….            -only read what you enjoy. If a books not doing it for you put it down. You can always give it another chance later.            -find a quite dim spot with minimal distractions. I always read in bed at night because that’s when everyone else is asleep and won’t interrupt me.          -cut out tv/streaming. Seems weird at first but once you get into a good book tv loses its appeal.            -get rid of social media. Especially FB. It’s just designed to bait you into arguments anyway. I make exceptions for book related platforms like Reddit or Bookstagram. It’s been 3 years and I don’t miss a single thing about FB.-buy cheap used books or use the library. That way you can sift through a wide variety of books for minimal monies. Some used book shops have mint condition books for $4.-join in on the r/52book subreddit. That’s what motivated me to start reading more and it’s been a lot of fun over the years. I found great recommendations and had some really good interactions with other Redditors                -always carry a book with you. You never know when you’ll find an extra 15 minutes to read. And all those little chunks really add up. I did that less in 2021 and you can see the above results.              Those are my main bookish habits that keep me reading at a high rate. Even at 100+ books it doesn’t feel like I’m forcing myself. It’s just reading for pleasure. I hope that helps!\\n': (1,\n",
              "  2),\n",
              " \"Dune is one of the most recognised science fiction novels. When diving into the depth of Sci-fi literature, Dune is one of the books being recommended everywhere.However, for a long time I didn't even consider reading the book. As I had watched David Lynch's movie adaptation, I thought the reading experience will be spoiled.Also, new phrases and word suggestions are very much welcomed. :)Great job! I have a friend who’s absolutely obsessed with dune :)\\n\": (0,\n",
              "  1),\n",
              " \"Every month I try and just pick what I feel like reading \\\\*within\\\\* these categories -   1-2 books for my Reading Around the World Challenge1 book for my bookclub1 classic I haven't read1 light and easy romcom type book1 Literary fiction1 from a series I'm reading  After that I just read whatever suits me until the new month.\\n\": (1,\n",
              "  2),\n",
              " 'Everything in the book with y’all\\n': (2, 1),\n",
              " 'Go to r/bookdiscussion\\n': (2, 0),\n",
              " 'Have a search and ask around at r/AskLiteraryStudies.\\n': (1, 0),\n",
              " 'Hearing Die A Legen, I knew he had insane potential. his lyricism isn\\'t insane in like a pejorative \"lyrical miracle\" sense but rather his bars/lyrics are so poignant and hard hitting\\n': (1,\n",
              "  0),\n",
              " \"How does r/TrueLit actually think of J. R. R. Tolkien's work? I thought it's the most bizarre thing to discuss here, so I've been hesitant to ask this. Of course, I'll never put Tolkien as the same level as writers as Pynchon, Faulkner or McCarthy in any way. But whenever I read Edmund Wilson's terrible review rampant with ad hominems and even spelling errors for character names, I grimace a lot.\\n\": (1,\n",
              "  0),\n",
              " 'I actually just finished reading this one as part of my reading challenge this year [link] and I loved it! And yet I completely agree with you. The lesson/s in it are nothing new or overly enlightening by the time you are in your 30s if you have a modicum of self awareness\\n': (1,\n",
              "  2),\n",
              " 'I definitely think the rereading is a comfort thing for me. I know how the books end and all the twists and turns so no unpleasant surprises. I’m finding it difficult to leave my reading comfort zone and try new books.\\n': (1,\n",
              "  2),\n",
              " \"I don't have 1000+ manga and I only buy small batches that I can reasonably read at a given time, so I mostly keep track in my head. I do record it on the goodreads app when I finish reading something (gotta meet my yearly), but not when I just buy something. There have been a few times when I've forgotten which books I have in a series, but that's always been because I haven't read all that I have for that series, which is a sign that I lost interest and don't need to buy more of it at this time.I feel like the people who lose track and double buy books are usually the compulsive spenders who just buy 50+ book hauls to have and not to read. Usually when I place orders (or plan out my shopping list for in person buying), I am at home and can reference my collection for any books I am unsure about.  If someone just has trouble with detail and attention with remembering their collections, there are apps like goodreads and a few others (I don't  know them, but have seen them mentioned in this subreddit) they can use when they are out and about or just for quick reference before they hit the checkout screen to keep track.\\n\": (2,\n",
              "  1),\n",
              " 'I feel this needs to be looked into more. Cooking books has been an issue for decades and a lot especially recently. Just because they aren’t real shares to retail doesn’t mean they aren’t marked as real in broker/hedgie books.\\n': (1,\n",
              "  0),\n",
              " \"I know of r/AskLiteraryStudies. Not sure if that's exactly what you want.\\n\": (1,\n",
              "  2),\n",
              " \"I know that you're specifically asking for the opinion of a _historian_, but your question lies at the intersection of literature and history. An academic trained in language and literature might find some parts of your question easier to weigh in on with authority. You might benefit from posing this to r/AskLiteraryStudies, too.\\n\": (0,\n",
              "  2),\n",
              " 'I love multigenerational family sagas, one of my all time favourites is The House of Spirits. ( I’m reading Pachinko atm, completely missed the timing of the r/bookclub even though I was so excited to join in). Read One Hundred few years ago and wanted to re-read with the classics, but Feb was interrupted by holidays and then by sickness so sadly missed all the club reads.\\n': (1,\n",
              "  2),\n",
              " 'I loved watching Donte Hall, but Cribbs is #2 in my book.\\n': (1, 0),\n",
              " \"I take snippets or exercises from books and bring them together, they can help in special situations or with my general point of view. For example, I wanted to so something new with my career, so I read Barbara Shers [quote]. Didn't help that big with the career at that time, but I really liked the idea of it. It helped me to look at decisions, things, people in situations or problems from another point of view. I don't know what to do - what would be the ideal thing? What else would I consider important or great or being the greatest impact to this situation? How do I perceive people who were in a similar situation and have a positive outcome etc etc\\n\": (1,\n",
              "  2),\n",
              " 'I think like with anything there’s good and bad. The issue is there’s maybe 70-80% bad books out there peddling not just shitty ideas, but sometimes dangerous ones. Anyone who reads these types of books go through a journey where they may discover better and better books. If you want a life hack I’d say the best starting point to void the fluff is to go read some of the classics like Meditations by Marcus Aurelius and a few other stoic classics. You’ll realise that most modern self help is a rehash of these classics. There’s still a few other great ones out there though - I find GoodReads helps weed out a few\\n': (1,\n",
              "  0),\n",
              " \"I'd say it's definitely low intensity. You can have OSRS open on a second monitor and focus 95% on a movie or tv show while just clicking the green boxes out of the corner of your eye.\\n\": (1,\n",
              "  2),\n",
              " 'I\\'m not sure if such a website or program exists and - as a literary scholar by training - I am somewhat skeptical that such an approach would do a good job at teaching the necessary skills to critically engage with literature. I could very much see it run the risk of  boiling literary analysis down to nothing but a checklist of actionable steps and removing any kind of ambiguities (and thus potential) from literary texts.While there are certain protocols to follow in literary studies, the craft is much more free form than, say, running a cost-benefit analysis. Instead, it is a matter of being receptive to the nuances of a text - and to bring one\\'s understanding of (literary) theory and history into dialogue with these nuances. (I am, of course, oversimplifying.)Thus, building a personal repertoire of literary theories and a solid understanding of (literary) histories might be one of the best bets to become better at critically engaging with literature. Building this repertoire, in turn, is probably best achieved through reading - and discussing what one has read.When it comes to the former, you can find a few recommendations in the following:If you want to dip your toes into some pop-literary studies first, you might want to try something like Thomas C. Foster\\'s *How to Read Literature Like A Prof*, which u/pm_me_poemsplease recommended in a similar context.Another great way to get a first feel for almost any academic field are Oxford University Press\\'s Very Short Introductions - in this case Jonathan Culler\\'s Literary Theory: A Very Short Introduction.You could also have a look at general introductory textbooks, like Mario Klarer\\'s *An Introduction to Literary Studies,* or at textbooks focusing specifically on literary theory, such as erry Eagleton\\'s *Literary Theory: An Introduction* and Peter Barry\\'s *Beginning Theory: An Introduction to Literary and Cultural Theory*. In case you would prefer to watch a lecture on the topic, there is always [Yale\\'s Open Course on Literary Theory](https://oyc.yale.edu/english/engl-300).Finally, if you want to dive straight into the deep end, you could have a look at Cambridge University Press\\'s extensive list of *Cambridge Companions to X* and *Cambridge Histories of Y*, where X and Y are something like \"the Victorian novel\" and \"American Literature.\"I hope some of this helps and I am sorry I couldn\\'t offer any more open-source resources.If you\\'ve got any questions, feel free to ask!EDIT: You might also want to check out r/AskLiteraryStudies. :)\\n': (0,\n",
              "  2),\n",
              " \"I'm not trying to determine what can or can't be posted, but /r/ebooks or /r/books or one of the sub-genre threads would probably be better for discussion. You could also consider /r/bookdiscussion and /r/bookrecommendationsIMO, the post still seems like promo though.\\n\": (2,\n",
              "  1),\n",
              " \"If this doesn't make sense, please reply with more than a one-word question so I have a better idea of what is confusing you about this.\\n\": (1,\n",
              "  0),\n",
              " 'If you read my post you’d see that I had already started one of the books for a book club I joined, so I was definitely not looking for recommendations in that regard. I was looking for comments that would inspire good discussion, like the first comment saying that I should definitely read Ready Player One prior to watching the movie.\\n': (1,\n",
              "  0),\n",
              " 'If you’d list some that you did and did not like, that would help a lot. Use the search bar in this sub for recommendations and also review /r/52book sub, as we post book cover photos from goodreads or other apps there.\\n': (1,\n",
              "  2),\n",
              " 'In seattle, there’s Ye Olde Curiosity Shoppe and a great horror movie section at MoPop.\\n': (1,\n",
              "  2),\n",
              " 'In the story, Kate Daniels is a down-on-her-luck mercenary who makes her living cleaning up these magical problems. But when Kate’s guardian is murdered, her quest for justice draws her into a power struggle between two strong factions within Atlanta’s magic\\n': (0,\n",
              "  3),\n",
              " \"It was a slower week for me. * I read **The Black Tides of Heaven, by Neon Yang**: I loved the worldbuilding behind this silkpunk novella, there’s simply a massive influx of creativity obvious here. That said, I had some issues with the pacing the characterizations, in all it just felt a bit rushed.* 85% complete and will soon finish **Dune Messiah, by Frank Herbert**. The climax is really compelling! I will absolutely be moving ahead with Children of Dune after this. * Done 6 out of 9 short stories in **Exhalation; Stories, by Ted Chiang.** This has been such a wonderful reading experience. Top stories so far are the Merchant and the Alchemist's Gate, Exhalation (the title story), and Truth of Fact, Truth of Feeling (which I read this morning and absolutely adored). * 25% complete **Drive Your Plow over the Bones of the Dead**, **by Olga Tokarczuk.** I'm really enjoying it. Surprisingly laugh-out-loud funny at some points, and just such creative fiction here.\\n\": (1,\n",
              "  2),\n",
              " 'Just for fun, I gave a relevant prompt to an [outside link] to see what it would come up with: **(Prompt) An open letter by Franz Kafka about the dearth of novelty in /r/TrueLit:** I have just read your statement on the subject of novelty. You are correct, I do not know how to express the thing, because I myself do not know how to express the thing. Yet the thing is the thing. The thing is what the thing is. The thing is what the thing is. I will not insult your intelligence by saying that the thing is the thing. You know it is the thing. I know it is the thing. It is the thing. The thing. The thing. The thing. The thing. The thing. The thing. The thing. The thing. The thing. I tried the same prompt again, just with a different writer. **(Prompt) An open letter by Fyodor Dostoevsky about the dearth of novelty in /r/TrueLit:** We have been reading and rereading the article in which you have described the monotonous state of your life and the “dearth of novelty” in it. It has a “sad and gloomy” look. Your heart aches as you think of it. But the article is not gloomy, not sad. It is, rather, quite the opposite. The last one I tried was strangely ... sensible. Not what I was expecting.\\n': (1,\n",
              "  2),\n",
              " 'Last year I read 55 books and probably 15-20 I got from this sub or from books posted on r/52book. Thank you everyone.\\n': (1,\n",
              "  2),\n",
              " 'Liz’s Day in Floral Park has a book sale every year as part of their general fundraiser and the $ goes to breast cancer research.\\n': (0,\n",
              "  1),\n",
              " 'New from Robert Garofalo, an instructional unit on Milhaud\\'s original classic work for band, Suite Francaise. This incredible teaching tool contains Interpretive Analysis, Folk Song Sources, Teacher\\'s Lesson Plan and Student Learning Guide. Written for any band or orchestra conductor planning to perform this work. An outstanding teaching tool that applies the MENC \"Standards\" to the podium. A \"MUST HAVE\" for the serious wind band conductor!\\n': (0,\n",
              "  1),\n",
              " 'Next level reminds me of extreme movie.\\n': (1, 2),\n",
              " 'Our kids prefer to own most of their books so they can share and re-read. Libraries have book sales. Try booksalefinder.com. The Mensa website has good booklists broken down by age group. You can also google top 100 kids chapter books of all time and start there.\\n': (1,\n",
              "  2),\n",
              " 'People who banned books NEVER cared about right or wrong to begin with. All that matters is the push to make  a lie the true, that is the bottom line nothing more.\\n': (1,\n",
              "  2),\n",
              " 'Please post lists of books in /r/booklists.\\n': (1, 0),\n",
              " 'Ready Player One. Just listing every 90s pop culture reference you can think of does not a novel make.\\n': (1,\n",
              "  2),\n",
              " 'Recently online-shoplifted an anais nin book, new mascara and face wash from amazon\\n': (1,\n",
              "  2),\n",
              " 'Romance is my favorite genre. Authors like Julie Garwood, Lisa Kleypas, Amanda Quick, Julia Quinn, Julie James, Sandra Brown, Elizabeth Lowell, Susan Elizabeth Phillips. I’m sure I’m forgetting a few. But you can get an idea of my preferences.\\n': (1,\n",
              "  2),\n",
              " 'She sounds generous. The best. Maybe she needs to come join bookclub one of these days\\n': (1,\n",
              "  2),\n",
              " 'Source: [link]\\n': (1, 0),\n",
              " 'Thank you for posting this! I have been very dismayed to see some of the attitudes from FFA bubbling over into my real life. I’m in the US and in a bookclub of 8 women in their 30s. Pretty much every meeting there’s a conversation about being too old for fashion. People talk about buying cheap leggings from Costco because they don’t want to spend money on clothes and how nothing fits their decrepit 35-year-old body. The Costco leggings are my real life version of the greige sack. Ugh! I hate this attitude! Of course, not everyone is into fashion and has money to spend on it, but I feel the prevailing attitude is that if you are over 30 and not a size 2, fashion is not for you and you are frivolous for thinking about it.\\n': (0,\n",
              "  1),\n",
              " \"Thats great - sounds like  you should check out r/52book if you haven't already! People challenge themselves to read 52 books in a year (you can set any goal though).\\n\": (1,\n",
              "  2),\n",
              " 'The best place to post your list is r/52book\\n': (1, 2),\n",
              " 'The narrator of this extraordinary tale is a man in search of truth. He answers an ad in a local newspaper from a teacher looking for serious pupils, only to find himself alone in an abandoned office with a full-grown gorilla who is nibbling delicately on a slender branch.\\n': (1,\n",
              "  0),\n",
              " 'The subreddit is titled ‘AskLiteraryStudies’.That’s what the OP did. If you want, start a subreddit called ‘Don’tAskResearchQuestionsYouCouldGoogle’. Your indignation when confronted with a similar polite request will then be appropriate.\\n': (1,\n",
              "  2),\n",
              " 'There are cutscenes that came out today in game that are covered in the novel. There are no other spoilers and nothing for future content, it appears.\\n': (1,\n",
              "  2),\n",
              " \"There is a [bookdiscussion][link] subreddit that looks like it never got off of the ground, but it could if enough of us participated in it.  I love reading /literature and /printsf, but they certainly don't cover most of what I actually read.\\n\": (1,\n",
              "  2),\n",
              " 'There is a genetic insensitivity to gut THC adsorption, if I understand the literature correctly.Both my mother and I have this insensitivity and have taken both edibles and sublingual tinctures without any effect even at high doses, while others experienced highness from much smaller doses.\\n': (2,\n",
              "  0),\n",
              " \"There's also the [weekly recommendation thread](http://www.reddit.com/r/books/comments/2mgd3p/weekly_recommendation_thread_for_the_week_of/) and the various recommendation subs pulled from this [List of book related subs](http://www.reddit.com/r/BookRelatedSubs/wiki/sublist)\\n\": (0,\n",
              "  2),\n",
              " \"They are purposefully injecting dangerous pro pitbull propaganda into children's toys, media, and books. It pisses me off, given pitbulls are the number one dog breed to seriously **maim** children.\\n\": (2,\n",
              "  1),\n",
              " 'They’re lucky I’m here to correct them.[outside link].\\n': (1, 2),\n",
              " 'This is a children’s book and it’s self explanatory rules that you are looking for an exact match. “This” does in fact imply that it is that exact picture you must find in the bigger picture. There are multiple anteaters and you can’t just say any one of them counts because they are all anteaters. I’ve said in other comments as well that I’ve done tons of these books with my kids and that’s how it works. You may find something that looks incredibly similar but if you keep looking you find the exact picture. Every single time. My 5 year old was smart enough to notice it was not the same mongoose but I guess a bunch of Redditors weren’t.\\n': (1,\n",
              "  2),\n",
              " \"This is a sub for pictures of people's bookshelves. /r/books, /r/bookdiscussion, /r/paranormalromance, and /r/YALit would be better places for this.\\n\": (0,\n",
              "  2),\n",
              " \"This is probably an unpopular opinion but I feel like r/books focuses an ordinate amount of time ranting about things they don't like in physical books rather than discussing what's in them.\\n\": (1,\n",
              "  2),\n",
              " 'This is why I joined Reddit, /r/booksuggestions, /r/suggestmeabook, /r/52book. After I spent some time learning there, a visit to the library or a real bookstore feels like a trip to Disneyland.\\n': (1,\n",
              "  2),\n",
              " \"This was another The Alchemist for me. Everyone in my bookclub loved it and found it deeply insightful. I really wanted to like it but I just found it cliché. I agree with others that the protagonist wasn't relatable... things just kept happening to her. It was a frustrating read.\\n\": (1,\n",
              "  2),\n",
              " 'This work cannot be replaced, and it is used to complement the original work. It is a digestive work to stimulate the appetite and encourage readers to enjoy and appreciate the original work even further.\\n': (2,\n",
              "  0),\n",
              " 'To be fair, the only poets he thinks are good are [\"Homer, Virgil, Dante, Chaucer, Shakespeare, Milton, Goethe and maybe Dickinson\"][link], so it\\'s a pretty high bar (especially since you assume he must have read them in their original languages to make such a pronouncement). [He\\'s also 19][link], so there is still a little hope that he\\'ll grow out of it.\\n': (1,\n",
              "  2),\n",
              " 'To get revenge on King Mildred, Grizelda creates the fiercest dragon the kingdom has ever seen.  He is such a terror that he must be killed. Now if only the dragonslayers could stop arguing long enough to face the greatest battle of all!\\n': (2,\n",
              "  0),\n",
              " 'To them good ol days exist in pre industrial natural selection world or in some fictional novel.Worst ideologies are those that promises Utopian world. They roads leads to nowhere and are paved with blood.\"Nirvana is not for this world\"\\n': (0,\n",
              "  3),\n",
              " 'True love or not, the game must play out, and the fates of everyone involved, from the cast of extraordinary circus performers to the patrons, hang in the balance, suspended as precariously as the daring acrobats overhead.\\n': (2,\n",
              "  3),\n",
              " \"Volume, direction, ema, sma. That's, quite literally, all you need if you are able to think fast and react quickly. Day trading is meant to be in and out with 0.5-3%gains (rarely more), and cutting your losses extremely quickly (within 0-0.5%). On average, I'd say I make about 10-20 trades a day. The first 3/4 are in and out because price action isn't there yet but volume is high and there could possibly be a trend so I try and price in accordingly. I'm a market open and near market close trader  because I prefer to play with price action and volume(so 9:30-11am and 2-4pm generally).EMA/SMA for support/resistance levelsVolume, candles, order books, and ticker list to include QQQ, SPY, etc  to gauge general direction. Ultimately, you have to be quick to multitask and assess all this information within seconds to get in early and ride a small trend. Otherwise, it's going to be tough.\\n\": (2,\n",
              "  1),\n",
              " \"When Jonathan Davis or Marc Thompson read those books to me, I’m just immersed. They could pronounce it cardayayay and I would still believe it's right.\\n\": (1,\n",
              "  2),\n",
              " 'Whether we are dealing with a rude clerk, our child saying, \"That\\'s not fair!,\" our spouse ignoring us, or an uncooperative co-worker, in our struggle to respond effectively, we often become defensive - sometimes without even realizing it. Despite good intentions, we can become manipulative and controlling, even with those we love most.\\n': (1,\n",
              "  0),\n",
              " \"While many of my favourites are already mentioned (Gunnerkrigg Court, Wilde Life, Kill Six Billion Demons, Homestuck) i haven't seen [Monster Pulse](https://www.monster-pulse.com/newreaders) here yet. By Mangolia Porter Siddell it tells the story of kids whose organs get turned into monsters due to a secret project, and how that affects their lives. The art constantly evolves, the characterisations are great, there is good character drama and action, it goes some messed up places and doesn't shy away from some serious consequences from the premise and it regularly updates! Close to being finished even! I can only reccommend it.\\n\": (0,\n",
              "  1),\n",
              " \"Who's we? He obviously wanted to, and since it's his novel, I don't see why not. Also, this is truelit, I come here for in-depth literature discussion, not to be reminded of reddits tendency to review books they don't plan on reading.\\n\": (1,\n",
              "  2),\n",
              " 'With penetrating insight that belies her youth, Packer helps us see the world with a clearer vision. Drinking Coffee Elsewhere is a striking performance—fresh, versatile, and captivating.\\n': (1,\n",
              "  0),\n",
              " 'Work on your readers’ advisory (RA)! You can create booklists based on authors, subjects, moods, read alikes (for books and also for tv/movies), or so many other things. For books you’re not actually interested in reading, you can [read a book in 5 minutes][link]\\n': (0,\n",
              "  2),\n",
              " 'Yes, it happens in /r/AskLiteraryStudies a fair amount. [quote].\\n': (1, 2),\n",
              " 'r/badliterature r/askliterarystudies r/literature (the third one is only okay.) for some humor check out r/badreads (bad book reviews) and r/bookscirclejerk (making fun of the (mostly) morons on r/books). i also like r/bookcollecting cause a lot of cool rare books get posted and you can silently judge people’s personal libraries.\\n': (0,\n",
              "  2),\n",
              " 'r/suggestmeabookr/EliversusMonsterCityr/booksuggestionsr/52bookr/joeledger\\n': (1,\n",
              "  0),\n",
              " 'r/truelit is great, but I’m worried many r/literature people will swarm it eventually. Though to be fair the people on r/truelit have good taste without being too snobbish so my whiny comment is sort of against the spirit of the sub.\\n': (1,\n",
              "  2),\n",
              " 'r/truelit puts out a user submitted list of best books every year.  I would start with some books from those lists that sound interesting to you.  You can find it on their side bar.\\n': (1,\n",
              "  0)}"
            ]
          },
          "metadata": {},
          "execution_count": 21
        }
      ]
    },
    {
      "cell_type": "code",
      "source": [
        "lst = []\n",
        "y_pred_lst = []\n",
        "y_true_lst = []\n",
        "for i in preds_tuple:\n",
        "  i_0_0 = i[0].item()\n",
        "  i_1_0 = i[1].item()\n",
        "  tup = (i_0_0, i_1_0)\n",
        "  y_pred_lst.append(i_0_0)\n",
        "  y_true_lst.append(i_1_0)\n",
        "  lst.append(tup)\n",
        "np.array(y_pred_lst),np.array(y_true_lst)"
      ],
      "metadata": {
        "colab": {
          "base_uri": "https://localhost:8080/"
        },
        "id": "wrNfIfNsL_bm",
        "outputId": "fe956693-7402-4e06-c6f0-92292ba9a60b"
      },
      "execution_count": null,
      "outputs": [
        {
          "output_type": "execute_result",
          "data": {
            "text/plain": [
              "(array([1, 1, 1, 1, 1, 1, 1, 1, 1, 1, 1, 2, 1, 1, 0, 1, 1, 1, 1, 0, 1, 0,\n",
              "        1, 2, 0, 1, 2, 0, 1, 1, 0, 1, 1, 0, 1, 1, 0, 0, 2, 0, 0, 2, 1, 1,\n",
              "        1, 0, 1, 1, 1, 0, 1, 1, 1, 0, 1, 1, 1, 2, 1, 1, 1, 0, 1, 1, 0, 1,\n",
              "        2, 1, 0, 1, 1, 1, 0, 2, 2, 0, 0, 1, 1, 1, 0, 1, 1, 1, 0, 1, 1, 0,\n",
              "        1, 0, 1, 1, 0, 1, 1, 1, 1, 0, 1, 1, 0, 1, 1, 1, 1, 2, 1, 0, 0, 0,\n",
              "        1, 0, 1, 0, 1, 1, 1, 1, 1, 0, 0, 1, 1, 0, 0, 1, 1, 2, 0, 1, 1, 1,\n",
              "        1, 0, 2, 1, 2, 1, 1, 1, 0, 1, 0, 1, 0, 1, 2, 0, 1, 0, 1, 0, 0, 1,\n",
              "        1, 1, 1, 1, 2, 0, 1, 1, 1, 1, 2, 1, 0, 1, 1, 1, 1, 1, 0, 2, 2, 1,\n",
              "        0, 1, 1, 1, 1, 1, 0, 1, 1, 1, 1, 1, 1, 1, 1, 1, 0, 1, 1, 1, 1, 1,\n",
              "        1, 1]),\n",
              " array([1, 1, 0, 1, 2, 2, 0, 1, 1, 1, 1, 1, 1, 1, 0, 1, 1, 0, 2, 0, 2, 0,\n",
              "        1, 0, 0, 2, 0, 0, 1, 1, 1, 1, 1, 0, 1, 2, 0, 0, 0, 0, 3, 2, 1, 2,\n",
              "        2, 0, 0, 2, 1, 0, 1, 1, 1, 0, 2, 1, 1, 1, 2, 1, 1, 0, 1, 0, 0, 1,\n",
              "        2, 1, 0, 1, 1, 2, 0, 3, 2, 1, 0, 1, 1, 0, 2, 1, 1, 2, 2, 2, 0, 0,\n",
              "        2, 3, 1, 1, 0, 0, 1, 1, 1, 0, 1, 2, 0, 2, 1, 1, 2, 2, 1, 0, 0, 0,\n",
              "        2, 2, 1, 2, 0, 2, 1, 1, 2, 0, 0, 2, 1, 0, 2, 1, 2, 2, 1, 0, 2, 0,\n",
              "        1, 1, 2, 1, 1, 1, 0, 2, 0, 0, 2, 1, 0, 1, 2, 1, 1, 1, 1, 0, 2, 1,\n",
              "        1, 2, 2, 1, 0, 0, 1, 0, 2, 1, 2, 2, 0, 1, 0, 2, 1, 1, 0, 1, 1, 2,\n",
              "        0, 2, 0, 1, 2, 1, 0, 1, 2, 1, 1, 1, 1, 1, 1, 2, 0, 0, 1, 2, 1, 1,\n",
              "        1, 1]))"
            ]
          },
          "metadata": {},
          "execution_count": 22
        }
      ]
    },
    {
      "cell_type": "code",
      "source": [
        "from sklearn.metrics import confusion_matrix\n",
        "import seaborn as sns\n",
        "import pandas as pd\n"
      ],
      "metadata": {
        "id": "y0xAmcEjPfND"
      },
      "execution_count": null,
      "outputs": []
    },
    {
      "cell_type": "code",
      "source": [
        "labels"
      ],
      "metadata": {
        "colab": {
          "base_uri": "https://localhost:8080/"
        },
        "id": "JqUJu74uPFhn",
        "outputId": "0a27a6eb-7f96-4cf8-846c-ed25a151bd23"
      },
      "execution_count": null,
      "outputs": [
        {
          "output_type": "execute_result",
          "data": {
            "text/plain": [
              "{'1': 1, '2': 2, '3': 0, '4': 3}"
            ]
          },
          "metadata": {},
          "execution_count": 24
        }
      ]
    },
    {
      "cell_type": "code",
      "source": [
        "#df = pd.DataFrame({'true_y':y_true_lst, 'pred_y':y_pred_lst})\n",
        "sns.heatmap(confusion_matrix(np.array(y_true_lst), np.array(y_pred_lst)), annot = True, fmt = 'd')\n",
        "plt.xlabel('Predicted labels')\n",
        "plt.ylabel('True labels')"
      ],
      "metadata": {
        "colab": {
          "base_uri": "https://localhost:8080/",
          "height": 297
        },
        "id": "0FBwTPgmO6Gj",
        "outputId": "e964141f-9558-4c92-86b9-81b6de848ca4"
      },
      "execution_count": null,
      "outputs": [
        {
          "output_type": "execute_result",
          "data": {
            "text/plain": [
              "Text(33.0, 0.5, 'True labels')"
            ]
          },
          "metadata": {},
          "execution_count": 25
        },
        {
          "output_type": "display_data",
          "data": {
            "text/plain": [
              "<Figure size 432x288 with 2 Axes>"
            ],
            "image/png": "[encoded data removed]"
          },
          "metadata": {
            "needs_background": "light"
          }
        }
      ]
    },
    {
      "cell_type": "code",
      "source": [
        ""
      ],
      "metadata": {
        "id": "HuwhTe23Y_bi"
      },
      "execution_count": null,
      "outputs": []
    }
  ],
  "metadata": {
    "accelerator": "GPU",
    "colab": {
      "collapsed_sections": [],
      "name": "BERT.ipynb",
      "provenance": []
    },
    "kernelspec": {
      "display_name": "Python 3 (ipykernel)",
      "language": "python",
      "name": "python3"
    },
    "language_info": {
      "codemirror_mode": {
        "name": "ipython",
        "version": 3
      },
      "file_extension": ".py",
      "mimetype": "text/x-python",
      "name": "python",
      "nbconvert_exporter": "python",
      "pygments_lexer": "ipython3",
      "version": "3.8.8"
    },
    "widgets": {
      "application/vnd.jupyter.widget-state+json": {
        "48c417bfa8844a088e2c9b827f37d9ed": {
          "model_module": "@jupyter-widgets/controls",
          "model_name": "HBoxModel",
          "model_module_version": "1.5.0",
          "state": {
            "_dom_classes": [],
            "_model_module": "@jupyter-widgets/controls",
            "_model_module_version": "1.5.0",
            "_model_name": "HBoxModel",
            "_view_count": null,
            "_view_module": "@jupyter-widgets/controls",
            "_view_module_version": "1.5.0",
            "_view_name": "HBoxView",
            "box_style": "",
            "children": [
              "IPY_MODEL_da1860a2ba2449a4ab3a877194d45c17",
              "IPY_MODEL_7937d54f77c84cd78d2a2c0b8e386fcb",
              "IPY_MODEL_1dd6c95b0feb4b33b9eeff0fb7493c17"
            ],
            "layout": "IPY_MODEL_fd85a26bf0bb4179a188158113f17bf0"
          }
        },
        "da1860a2ba2449a4ab3a877194d45c17": {
          "model_module": "@jupyter-widgets/controls",
          "model_name": "HTMLModel",
          "model_module_version": "1.5.0",
          "state": {
            "_dom_classes": [],
            "_model_module": "@jupyter-widgets/controls",
            "_model_module_version": "1.5.0",
            "_model_name": "HTMLModel",
            "_view_count": null,
            "_view_module": "@jupyter-widgets/controls",
            "_view_module_version": "1.5.0",
            "_view_name": "HTMLView",
            "description": "",
            "description_tooltip": null,
            "layout": "IPY_MODEL_91b94ff4a9c44dec92d6f98870d297e5",
            "placeholder": "​",
            "style": "IPY_MODEL_dcc64ec4789c482aaca0aa1816679c4f",
            "value": "Downloading: 100%"
          }
        },
        "7937d54f77c84cd78d2a2c0b8e386fcb": {
          "model_module": "@jupyter-widgets/controls",
          "model_name": "FloatProgressModel",
          "model_module_version": "1.5.0",
          "state": {
            "_dom_classes": [],
            "_model_module": "@jupyter-widgets/controls",
            "_model_module_version": "1.5.0",
            "_model_name": "FloatProgressModel",
            "_view_count": null,
            "_view_module": "@jupyter-widgets/controls",
            "_view_module_version": "1.5.0",
            "_view_name": "ProgressView",
            "bar_style": "success",
            "description": "",
            "description_tooltip": null,
            "layout": "IPY_MODEL_8816751628864ef8b8ab06d8a6ca3301",
            "max": 231508,
            "min": 0,
            "orientation": "horizontal",
            "style": "IPY_MODEL_7ab7fba222164dc59aa04f6eae38b18e",
            "value": 231508
          }
        },
        "1dd6c95b0feb4b33b9eeff0fb7493c17": {
          "model_module": "@jupyter-widgets/controls",
          "model_name": "HTMLModel",
          "model_module_version": "1.5.0",
          "state": {
            "_dom_classes": [],
            "_model_module": "@jupyter-widgets/controls",
            "_model_module_version": "1.5.0",
            "_model_name": "HTMLModel",
            "_view_count": null,
            "_view_module": "@jupyter-widgets/controls",
            "_view_module_version": "1.5.0",
            "_view_name": "HTMLView",
            "description": "",
            "description_tooltip": null,
            "layout": "IPY_MODEL_075c20cbe81348529684bd8d8024bd8f",
            "placeholder": "​",
            "style": "IPY_MODEL_0e14f2fd11ea4260bb23e54bd8e2cf2a",
            "value": " 226k/226k [00:00&lt;00:00, 286kB/s]"
          }
        },
        "fd85a26bf0bb4179a188158113f17bf0": {
          "model_module": "@jupyter-widgets/base",
          "model_name": "LayoutModel",
          "model_module_version": "1.2.0",
          "state": {
            "_model_module": "@jupyter-widgets/base",
            "_model_module_version": "1.2.0",
            "_model_name": "LayoutModel",
            "_view_count": null,
            "_view_module": "@jupyter-widgets/base",
            "_view_module_version": "1.2.0",
            "_view_name": "LayoutView",
            "align_content": null,
            "align_items": null,
            "align_self": null,
            "border": null,
            "bottom": null,
            "display": null,
            "flex": null,
            "flex_flow": null,
            "grid_area": null,
            "grid_auto_columns": null,
            "grid_auto_flow": null,
            "grid_auto_rows": null,
            "grid_column": null,
            "grid_gap": null,
            "grid_row": null,
            "grid_template_areas": null,
            "grid_template_columns": null,
            "grid_template_rows": null,
            "height": null,
            "justify_content": null,
            "justify_items": null,
            "left": null,
            "margin": null,
            "max_height": null,
            "max_width": null,
            "min_height": null,
            "min_width": null,
            "object_fit": null,
            "object_position": null,
            "order": null,
            "overflow": null,
            "overflow_x": null,
            "overflow_y": null,
            "padding": null,
            "right": null,
            "top": null,
            "visibility": null,
            "width": null
          }
        },
        "91b94ff4a9c44dec92d6f98870d297e5": {
          "model_module": "@jupyter-widgets/base",
          "model_name": "LayoutModel",
          "model_module_version": "1.2.0",
          "state": {
            "_model_module": "@jupyter-widgets/base",
            "_model_module_version": "1.2.0",
            "_model_name": "LayoutModel",
            "_view_count": null,
            "_view_module": "@jupyter-widgets/base",
            "_view_module_version": "1.2.0",
            "_view_name": "LayoutView",
            "align_content": null,
            "align_items": null,
            "align_self": null,
            "border": null,
            "bottom": null,
            "display": null,
            "flex": null,
            "flex_flow": null,
            "grid_area": null,
            "grid_auto_columns": null,
            "grid_auto_flow": null,
            "grid_auto_rows": null,
            "grid_column": null,
            "grid_gap": null,
            "grid_row": null,
            "grid_template_areas": null,
            "grid_template_columns": null,
            "grid_template_rows": null,
            "height": null,
            "justify_content": null,
            "justify_items": null,
            "left": null,
            "margin": null,
            "max_height": null,
            "max_width": null,
            "min_height": null,
            "min_width": null,
            "object_fit": null,
            "object_position": null,
            "order": null,
            "overflow": null,
            "overflow_x": null,
            "overflow_y": null,
            "padding": null,
            "right": null,
            "top": null,
            "visibility": null,
            "width": null
          }
        },
        "dcc64ec4789c482aaca0aa1816679c4f": {
          "model_module": "@jupyter-widgets/controls",
          "model_name": "DescriptionStyleModel",
          "model_module_version": "1.5.0",
          "state": {
            "_model_module": "@jupyter-widgets/controls",
            "_model_module_version": "1.5.0",
            "_model_name": "DescriptionStyleModel",
            "_view_count": null,
            "_view_module": "@jupyter-widgets/base",
            "_view_module_version": "1.2.0",
            "_view_name": "StyleView",
            "description_width": ""
          }
        },
        "8816751628864ef8b8ab06d8a6ca3301": {
          "model_module": "@jupyter-widgets/base",
          "model_name": "LayoutModel",
          "model_module_version": "1.2.0",
          "state": {
            "_model_module": "@jupyter-widgets/base",
            "_model_module_version": "1.2.0",
            "_model_name": "LayoutModel",
            "_view_count": null,
            "_view_module": "@jupyter-widgets/base",
            "_view_module_version": "1.2.0",
            "_view_name": "LayoutView",
            "align_content": null,
            "align_items": null,
            "align_self": null,
            "border": null,
            "bottom": null,
            "display": null,
            "flex": null,
            "flex_flow": null,
            "grid_area": null,
            "grid_auto_columns": null,
            "grid_auto_flow": null,
            "grid_auto_rows": null,
            "grid_column": null,
            "grid_gap": null,
            "grid_row": null,
            "grid_template_areas": null,
            "grid_template_columns": null,
            "grid_template_rows": null,
            "height": null,
            "justify_content": null,
            "justify_items": null,
            "left": null,
            "margin": null,
            "max_height": null,
            "max_width": null,
            "min_height": null,
            "min_width": null,
            "object_fit": null,
            "object_position": null,
            "order": null,
            "overflow": null,
            "overflow_x": null,
            "overflow_y": null,
            "padding": null,
            "right": null,
            "top": null,
            "visibility": null,
            "width": null
          }
        },
        "7ab7fba222164dc59aa04f6eae38b18e": {
          "model_module": "@jupyter-widgets/controls",
          "model_name": "ProgressStyleModel",
          "model_module_version": "1.5.0",
          "state": {
            "_model_module": "@jupyter-widgets/controls",
            "_model_module_version": "1.5.0",
            "_model_name": "ProgressStyleModel",
            "_view_count": null,
            "_view_module": "@jupyter-widgets/base",
            "_view_module_version": "1.2.0",
            "_view_name": "StyleView",
            "bar_color": null,
            "description_width": ""
          }
        },
        "075c20cbe81348529684bd8d8024bd8f": {
          "model_module": "@jupyter-widgets/base",
          "model_name": "LayoutModel",
          "model_module_version": "1.2.0",
          "state": {
            "_model_module": "@jupyter-widgets/base",
            "_model_module_version": "1.2.0",
            "_model_name": "LayoutModel",
            "_view_count": null,
            "_view_module": "@jupyter-widgets/base",
            "_view_module_version": "1.2.0",
            "_view_name": "LayoutView",
            "align_content": null,
            "align_items": null,
            "align_self": null,
            "border": null,
            "bottom": null,
            "display": null,
            "flex": null,
            "flex_flow": null,
            "grid_area": null,
            "grid_auto_columns": null,
            "grid_auto_flow": null,
            "grid_auto_rows": null,
            "grid_column": null,
            "grid_gap": null,
            "grid_row": null,
            "grid_template_areas": null,
            "grid_template_columns": null,
            "grid_template_rows": null,
            "height": null,
            "justify_content": null,
            "justify_items": null,
            "left": null,
            "margin": null,
            "max_height": null,
            "max_width": null,
            "min_height": null,
            "min_width": null,
            "object_fit": null,
            "object_position": null,
            "order": null,
            "overflow": null,
            "overflow_x": null,
            "overflow_y": null,
            "padding": null,
            "right": null,
            "top": null,
            "visibility": null,
            "width": null
          }
        },
        "0e14f2fd11ea4260bb23e54bd8e2cf2a": {
          "model_module": "@jupyter-widgets/controls",
          "model_name": "DescriptionStyleModel",
          "model_module_version": "1.5.0",
          "state": {
            "_model_module": "@jupyter-widgets/controls",
            "_model_module_version": "1.5.0",
            "_model_name": "DescriptionStyleModel",
            "_view_count": null,
            "_view_module": "@jupyter-widgets/base",
            "_view_module_version": "1.2.0",
            "_view_name": "StyleView",
            "description_width": ""
          }
        },
        "27e4eff78b814565bb2db3f7f49c6cc2": {
          "model_module": "@jupyter-widgets/controls",
          "model_name": "HBoxModel",
          "model_module_version": "1.5.0",
          "state": {
            "_dom_classes": [],
            "_model_module": "@jupyter-widgets/controls",
            "_model_module_version": "1.5.0",
            "_model_name": "HBoxModel",
            "_view_count": null,
            "_view_module": "@jupyter-widgets/controls",
            "_view_module_version": "1.5.0",
            "_view_name": "HBoxView",
            "box_style": "",
            "children": [
              "IPY_MODEL_de05f60a841e4e4caa55c2966a41fd47",
              "IPY_MODEL_a4d413b688c64bdb88c1ced9dcba1b10",
              "IPY_MODEL_8a66ddb694c54803b746e6f28a5d3290"
            ],
            "layout": "IPY_MODEL_747a615cbaa64ba8a8eca64cd880f03a"
          }
        },
        "de05f60a841e4e4caa55c2966a41fd47": {
          "model_module": "@jupyter-widgets/controls",
          "model_name": "HTMLModel",
          "model_module_version": "1.5.0",
          "state": {
            "_dom_classes": [],
            "_model_module": "@jupyter-widgets/controls",
            "_model_module_version": "1.5.0",
            "_model_name": "HTMLModel",
            "_view_count": null,
            "_view_module": "@jupyter-widgets/controls",
            "_view_module_version": "1.5.0",
            "_view_name": "HTMLView",
            "description": "",
            "description_tooltip": null,
            "layout": "IPY_MODEL_6de40920d0494a91b52d899e52204be8",
            "placeholder": "​",
            "style": "IPY_MODEL_26c3d3e1e0984c68995eda3fabd0c7f1",
            "value": "Downloading: 100%"
          }
        },
        "a4d413b688c64bdb88c1ced9dcba1b10": {
          "model_module": "@jupyter-widgets/controls",
          "model_name": "FloatProgressModel",
          "model_module_version": "1.5.0",
          "state": {
            "_dom_classes": [],
            "_model_module": "@jupyter-widgets/controls",
            "_model_module_version": "1.5.0",
            "_model_name": "FloatProgressModel",
            "_view_count": null,
            "_view_module": "@jupyter-widgets/controls",
            "_view_module_version": "1.5.0",
            "_view_name": "ProgressView",
            "bar_style": "success",
            "description": "",
            "description_tooltip": null,
            "layout": "IPY_MODEL_3565cfe6126648febe76ace2c060cdf5",
            "max": 382,
            "min": 0,
            "orientation": "horizontal",
            "style": "IPY_MODEL_87131816c7304a06b4b614b0a7f2b1a4",
            "value": 382
          }
        },
        "8a66ddb694c54803b746e6f28a5d3290": {
          "model_module": "@jupyter-widgets/controls",
          "model_name": "HTMLModel",
          "model_module_version": "1.5.0",
          "state": {
            "_dom_classes": [],
            "_model_module": "@jupyter-widgets/controls",
            "_model_module_version": "1.5.0",
            "_model_name": "HTMLModel",
            "_view_count": null,
            "_view_module": "@jupyter-widgets/controls",
            "_view_module_version": "1.5.0",
            "_view_name": "HTMLView",
            "description": "",
            "description_tooltip": null,
            "layout": "IPY_MODEL_eb979d0411c54d0da0a55692abbff933",
            "placeholder": "​",
            "style": "IPY_MODEL_a4e38b2a3a214625a218a35a74c61a2b",
            "value": " 382/382 [00:00&lt;00:00, 3.45kB/s]"
          }
        },
        "747a615cbaa64ba8a8eca64cd880f03a": {
          "model_module": "@jupyter-widgets/base",
          "model_name": "LayoutModel",
          "model_module_version": "1.2.0",
          "state": {
            "_model_module": "@jupyter-widgets/base",
            "_model_module_version": "1.2.0",
            "_model_name": "LayoutModel",
            "_view_count": null,
            "_view_module": "@jupyter-widgets/base",
            "_view_module_version": "1.2.0",
            "_view_name": "LayoutView",
            "align_content": null,
            "align_items": null,
            "align_self": null,
            "border": null,
            "bottom": null,
            "display": null,
            "flex": null,
            "flex_flow": null,
            "grid_area": null,
            "grid_auto_columns": null,
            "grid_auto_flow": null,
            "grid_auto_rows": null,
            "grid_column": null,
            "grid_gap": null,
            "grid_row": null,
            "grid_template_areas": null,
            "grid_template_columns": null,
            "grid_template_rows": null,
            "height": null,
            "justify_content": null,
            "justify_items": null,
            "left": null,
            "margin": null,
            "max_height": null,
            "max_width": null,
            "min_height": null,
            "min_width": null,
            "object_fit": null,
            "object_position": null,
            "order": null,
            "overflow": null,
            "overflow_x": null,
            "overflow_y": null,
            "padding": null,
            "right": null,
            "top": null,
            "visibility": null,
            "width": null
          }
        },
        "6de40920d0494a91b52d899e52204be8": {
          "model_module": "@jupyter-widgets/base",
          "model_name": "LayoutModel",
          "model_module_version": "1.2.0",
          "state": {
            "_model_module": "@jupyter-widgets/base",
            "_model_module_version": "1.2.0",
            "_model_name": "LayoutModel",
            "_view_count": null,
            "_view_module": "@jupyter-widgets/base",
            "_view_module_version": "1.2.0",
            "_view_name": "LayoutView",
            "align_content": null,
            "align_items": null,
            "align_self": null,
            "border": null,
            "bottom": null,
            "display": null,
            "flex": null,
            "flex_flow": null,
            "grid_area": null,
            "grid_auto_columns": null,
            "grid_auto_flow": null,
            "grid_auto_rows": null,
            "grid_column": null,
            "grid_gap": null,
            "grid_row": null,
            "grid_template_areas": null,
            "grid_template_columns": null,
            "grid_template_rows": null,
            "height": null,
            "justify_content": null,
            "justify_items": null,
            "left": null,
            "margin": null,
            "max_height": null,
            "max_width": null,
            "min_height": null,
            "min_width": null,
            "object_fit": null,
            "object_position": null,
            "order": null,
            "overflow": null,
            "overflow_x": null,
            "overflow_y": null,
            "padding": null,
            "right": null,
            "top": null,
            "visibility": null,
            "width": null
          }
        },
        "26c3d3e1e0984c68995eda3fabd0c7f1": {
          "model_module": "@jupyter-widgets/controls",
          "model_name": "DescriptionStyleModel",
          "model_module_version": "1.5.0",
          "state": {
            "_model_module": "@jupyter-widgets/controls",
            "_model_module_version": "1.5.0",
            "_model_name": "DescriptionStyleModel",
            "_view_count": null,
            "_view_module": "@jupyter-widgets/base",
            "_view_module_version": "1.2.0",
            "_view_name": "StyleView",
            "description_width": ""
          }
        },
        "3565cfe6126648febe76ace2c060cdf5": {
          "model_module": "@jupyter-widgets/base",
          "model_name": "LayoutModel",
          "model_module_version": "1.2.0",
          "state": {
            "_model_module": "@jupyter-widgets/base",
            "_model_module_version": "1.2.0",
            "_model_name": "LayoutModel",
            "_view_count": null,
            "_view_module": "@jupyter-widgets/base",
            "_view_module_version": "1.2.0",
            "_view_name": "LayoutView",
            "align_content": null,
            "align_items": null,
            "align_self": null,
            "border": null,
            "bottom": null,
            "display": null,
            "flex": null,
            "flex_flow": null,
            "grid_area": null,
            "grid_auto_columns": null,
            "grid_auto_flow": null,
            "grid_auto_rows": null,
            "grid_column": null,
            "grid_gap": null,
            "grid_row": null,
            "grid_template_areas": null,
            "grid_template_columns": null,
            "grid_template_rows": null,
            "height": null,
            "justify_content": null,
            "justify_items": null,
            "left": null,
            "margin": null,
            "max_height": null,
            "max_width": null,
            "min_height": null,
            "min_width": null,
            "object_fit": null,
            "object_position": null,
            "order": null,
            "overflow": null,
            "overflow_x": null,
            "overflow_y": null,
            "padding": null,
            "right": null,
            "top": null,
            "visibility": null,
            "width": null
          }
        },
        "87131816c7304a06b4b614b0a7f2b1a4": {
          "model_module": "@jupyter-widgets/controls",
          "model_name": "ProgressStyleModel",
          "model_module_version": "1.5.0",
          "state": {
            "_model_module": "@jupyter-widgets/controls",
            "_model_module_version": "1.5.0",
            "_model_name": "ProgressStyleModel",
            "_view_count": null,
            "_view_module": "@jupyter-widgets/base",
            "_view_module_version": "1.2.0",
            "_view_name": "StyleView",
            "bar_color": null,
            "description_width": ""
          }
        },
        "eb979d0411c54d0da0a55692abbff933": {
          "model_module": "@jupyter-widgets/base",
          "model_name": "LayoutModel",
          "model_module_version": "1.2.0",
          "state": {
            "_model_module": "@jupyter-widgets/base",
            "_model_module_version": "1.2.0",
            "_model_name": "LayoutModel",
            "_view_count": null,
            "_view_module": "@jupyter-widgets/base",
            "_view_module_version": "1.2.0",
            "_view_name": "LayoutView",
            "align_content": null,
            "align_items": null,
            "align_self": null,
            "border": null,
            "bottom": null,
            "display": null,
            "flex": null,
            "flex_flow": null,
            "grid_area": null,
            "grid_auto_columns": null,
            "grid_auto_flow": null,
            "grid_auto_rows": null,
            "grid_column": null,
            "grid_gap": null,
            "grid_row": null,
            "grid_template_areas": null,
            "grid_template_columns": null,
            "grid_template_rows": null,
            "height": null,
            "justify_content": null,
            "justify_items": null,
            "left": null,
            "margin": null,
            "max_height": null,
            "max_width": null,
            "min_height": null,
            "min_width": null,
            "object_fit": null,
            "object_position": null,
            "order": null,
            "overflow": null,
            "overflow_x": null,
            "overflow_y": null,
            "padding": null,
            "right": null,
            "top": null,
            "visibility": null,
            "width": null
          }
        },
        "a4e38b2a3a214625a218a35a74c61a2b": {
          "model_module": "@jupyter-widgets/controls",
          "model_name": "DescriptionStyleModel",
          "model_module_version": "1.5.0",
          "state": {
            "_model_module": "@jupyter-widgets/controls",
            "_model_module_version": "1.5.0",
            "_model_name": "DescriptionStyleModel",
            "_view_count": null,
            "_view_module": "@jupyter-widgets/base",
            "_view_module_version": "1.2.0",
            "_view_name": "StyleView",
            "description_width": ""
          }
        },
        "7b31f035c07b43aa80a953dd06162d3c": {
          "model_module": "@jupyter-widgets/controls",
          "model_name": "HBoxModel",
          "model_module_version": "1.5.0",
          "state": {
            "_dom_classes": [],
            "_model_module": "@jupyter-widgets/controls",
            "_model_module_version": "1.5.0",
            "_model_name": "HBoxModel",
            "_view_count": null,
            "_view_module": "@jupyter-widgets/controls",
            "_view_module_version": "1.5.0",
            "_view_name": "HBoxView",
            "box_style": "",
            "children": [
              "IPY_MODEL_c791eed7a71d4ed1baa25f2fdded8464",
              "IPY_MODEL_d4882a7e7e9e4d22a3ca637b6c134e09",
              "IPY_MODEL_564a3e5882a941768991695ec8e97bd6"
            ],
            "layout": "IPY_MODEL_5efaaeb83d454bb1af7066f7fbda4129"
          }
        },
        "c791eed7a71d4ed1baa25f2fdded8464": {
          "model_module": "@jupyter-widgets/controls",
          "model_name": "HTMLModel",
          "model_module_version": "1.5.0",
          "state": {
            "_dom_classes": [],
            "_model_module": "@jupyter-widgets/controls",
            "_model_module_version": "1.5.0",
            "_model_name": "HTMLModel",
            "_view_count": null,
            "_view_module": "@jupyter-widgets/controls",
            "_view_module_version": "1.5.0",
            "_view_name": "HTMLView",
            "description": "",
            "description_tooltip": null,
            "layout": "IPY_MODEL_6a2477c65be046e7bda44f52db30df20",
            "placeholder": "​",
            "style": "IPY_MODEL_8549e249e6014570a40820046cc21815",
            "value": "Downloading: 100%"
          }
        },
        "d4882a7e7e9e4d22a3ca637b6c134e09": {
          "model_module": "@jupyter-widgets/controls",
          "model_name": "FloatProgressModel",
          "model_module_version": "1.5.0",
          "state": {
            "_dom_classes": [],
            "_model_module": "@jupyter-widgets/controls",
            "_model_module_version": "1.5.0",
            "_model_name": "FloatProgressModel",
            "_view_count": null,
            "_view_module": "@jupyter-widgets/controls",
            "_view_module_version": "1.5.0",
            "_view_name": "ProgressView",
            "bar_style": "success",
            "description": "",
            "description_tooltip": null,
            "layout": "IPY_MODEL_8fd1300c8e7c427fa6c49365b5772354",
            "max": 17743809,
            "min": 0,
            "orientation": "horizontal",
            "style": "IPY_MODEL_f8e88e7f6b674972994194b7a57edea0",
            "value": 17743809
          }
        },
        "564a3e5882a941768991695ec8e97bd6": {
          "model_module": "@jupyter-widgets/controls",
          "model_name": "HTMLModel",
          "model_module_version": "1.5.0",
          "state": {
            "_dom_classes": [],
            "_model_module": "@jupyter-widgets/controls",
            "_model_module_version": "1.5.0",
            "_model_name": "HTMLModel",
            "_view_count": null,
            "_view_module": "@jupyter-widgets/controls",
            "_view_module_version": "1.5.0",
            "_view_name": "HTMLView",
            "description": "",
            "description_tooltip": null,
            "layout": "IPY_MODEL_e3dee66680d847d3816b828ac4a04076",
            "placeholder": "​",
            "style": "IPY_MODEL_de505b180d07422f82437cce60cfc09a",
            "value": " 16.9M/16.9M [00:00&lt;00:00, 20.7MB/s]"
          }
        },
        "5efaaeb83d454bb1af7066f7fbda4129": {
          "model_module": "@jupyter-widgets/base",
          "model_name": "LayoutModel",
          "model_module_version": "1.2.0",
          "state": {
            "_model_module": "@jupyter-widgets/base",
            "_model_module_version": "1.2.0",
            "_model_name": "LayoutModel",
            "_view_count": null,
            "_view_module": "@jupyter-widgets/base",
            "_view_module_version": "1.2.0",
            "_view_name": "LayoutView",
            "align_content": null,
            "align_items": null,
            "align_self": null,
            "border": null,
            "bottom": null,
            "display": null,
            "flex": null,
            "flex_flow": null,
            "grid_area": null,
            "grid_auto_columns": null,
            "grid_auto_flow": null,
            "grid_auto_rows": null,
            "grid_column": null,
            "grid_gap": null,
            "grid_row": null,
            "grid_template_areas": null,
            "grid_template_columns": null,
            "grid_template_rows": null,
            "height": null,
            "justify_content": null,
            "justify_items": null,
            "left": null,
            "margin": null,
            "max_height": null,
            "max_width": null,
            "min_height": null,
            "min_width": null,
            "object_fit": null,
            "object_position": null,
            "order": null,
            "overflow": null,
            "overflow_x": null,
            "overflow_y": null,
            "padding": null,
            "right": null,
            "top": null,
            "visibility": null,
            "width": null
          }
        },
        "6a2477c65be046e7bda44f52db30df20": {
          "model_module": "@jupyter-widgets/base",
          "model_name": "LayoutModel",
          "model_module_version": "1.2.0",
          "state": {
            "_model_module": "@jupyter-widgets/base",
            "_model_module_version": "1.2.0",
            "_model_name": "LayoutModel",
            "_view_count": null,
            "_view_module": "@jupyter-widgets/base",
            "_view_module_version": "1.2.0",
            "_view_name": "LayoutView",
            "align_content": null,
            "align_items": null,
            "align_self": null,
            "border": null,
            "bottom": null,
            "display": null,
            "flex": null,
            "flex_flow": null,
            "grid_area": null,
            "grid_auto_columns": null,
            "grid_auto_flow": null,
            "grid_auto_rows": null,
            "grid_column": null,
            "grid_gap": null,
            "grid_row": null,
            "grid_template_areas": null,
            "grid_template_columns": null,
            "grid_template_rows": null,
            "height": null,
            "justify_content": null,
            "justify_items": null,
            "left": null,
            "margin": null,
            "max_height": null,
            "max_width": null,
            "min_height": null,
            "min_width": null,
            "object_fit": null,
            "object_position": null,
            "order": null,
            "overflow": null,
            "overflow_x": null,
            "overflow_y": null,
            "padding": null,
            "right": null,
            "top": null,
            "visibility": null,
            "width": null
          }
        },
        "8549e249e6014570a40820046cc21815": {
          "model_module": "@jupyter-widgets/controls",
          "model_name": "DescriptionStyleModel",
          "model_module_version": "1.5.0",
          "state": {
            "_model_module": "@jupyter-widgets/controls",
            "_model_module_version": "1.5.0",
            "_model_name": "DescriptionStyleModel",
            "_view_count": null,
            "_view_module": "@jupyter-widgets/base",
            "_view_module_version": "1.2.0",
            "_view_name": "StyleView",
            "description_width": ""
          }
        },
        "8fd1300c8e7c427fa6c49365b5772354": {
          "model_module": "@jupyter-widgets/base",
          "model_name": "LayoutModel",
          "model_module_version": "1.2.0",
          "state": {
            "_model_module": "@jupyter-widgets/base",
            "_model_module_version": "1.2.0",
            "_model_name": "LayoutModel",
            "_view_count": null,
            "_view_module": "@jupyter-widgets/base",
            "_view_module_version": "1.2.0",
            "_view_name": "LayoutView",
            "align_content": null,
            "align_items": null,
            "align_self": null,
            "border": null,
            "bottom": null,
            "display": null,
            "flex": null,
            "flex_flow": null,
            "grid_area": null,
            "grid_auto_columns": null,
            "grid_auto_flow": null,
            "grid_auto_rows": null,
            "grid_column": null,
            "grid_gap": null,
            "grid_row": null,
            "grid_template_areas": null,
            "grid_template_columns": null,
            "grid_template_rows": null,
            "height": null,
            "justify_content": null,
            "justify_items": null,
            "left": null,
            "margin": null,
            "max_height": null,
            "max_width": null,
            "min_height": null,
            "min_width": null,
            "object_fit": null,
            "object_position": null,
            "order": null,
            "overflow": null,
            "overflow_x": null,
            "overflow_y": null,
            "padding": null,
            "right": null,
            "top": null,
            "visibility": null,
            "width": null
          }
        },
        "f8e88e7f6b674972994194b7a57edea0": {
          "model_module": "@jupyter-widgets/controls",
          "model_name": "ProgressStyleModel",
          "model_module_version": "1.5.0",
          "state": {
            "_model_module": "@jupyter-widgets/controls",
            "_model_module_version": "1.5.0",
            "_model_name": "ProgressStyleModel",
            "_view_count": null,
            "_view_module": "@jupyter-widgets/base",
            "_view_module_version": "1.2.0",
            "_view_name": "StyleView",
            "bar_color": null,
            "description_width": ""
          }
        },
        "e3dee66680d847d3816b828ac4a04076": {
          "model_module": "@jupyter-widgets/base",
          "model_name": "LayoutModel",
          "model_module_version": "1.2.0",
          "state": {
            "_model_module": "@jupyter-widgets/base",
            "_model_module_version": "1.2.0",
            "_model_name": "LayoutModel",
            "_view_count": null,
            "_view_module": "@jupyter-widgets/base",
            "_view_module_version": "1.2.0",
            "_view_name": "LayoutView",
            "align_content": null,
            "align_items": null,
            "align_self": null,
            "border": null,
            "bottom": null,
            "display": null,
            "flex": null,
            "flex_flow": null,
            "grid_area": null,
            "grid_auto_columns": null,
            "grid_auto_flow": null,
            "grid_auto_rows": null,
            "grid_column": null,
            "grid_gap": null,
            "grid_row": null,
            "grid_template_areas": null,
            "grid_template_columns": null,
            "grid_template_rows": null,
            "height": null,
            "justify_content": null,
            "justify_items": null,
            "left": null,
            "margin": null,
            "max_height": null,
            "max_width": null,
            "min_height": null,
            "min_width": null,
            "object_fit": null,
            "object_position": null,
            "order": null,
            "overflow": null,
            "overflow_x": null,
            "overflow_y": null,
            "padding": null,
            "right": null,
            "top": null,
            "visibility": null,
            "width": null
          }
        },
        "de505b180d07422f82437cce60cfc09a": {
          "model_module": "@jupyter-widgets/controls",
          "model_name": "DescriptionStyleModel",
          "model_module_version": "1.5.0",
          "state": {
            "_model_module": "@jupyter-widgets/controls",
            "_model_module_version": "1.5.0",
            "_model_name": "DescriptionStyleModel",
            "_view_count": null,
            "_view_module": "@jupyter-widgets/base",
            "_view_module_version": "1.2.0",
            "_view_name": "StyleView",
            "description_width": ""
          }
        }
      }
    }
  },
  "nbformat": 4,
  "nbformat_minor": 0
}